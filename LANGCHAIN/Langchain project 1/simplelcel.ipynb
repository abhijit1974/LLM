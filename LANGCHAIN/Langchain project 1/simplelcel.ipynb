{
 "cells": [
  {
   "cell_type": "markdown",
   "id": "6ed372df",
   "metadata": {},
   "source": [
    "## Build a simple LLM Application with LCEL ##\n",
    "\n",
    "This application will tanslate text from English to any other language. This is a relatively simple LLM application. \n",
    "\n",
    "We will be using\n",
    "\n",
    "Language models\n",
    "Langchain Expression Language (LCEL) to chain components together\n",
    "Debugging and tracing application using LangSmith\n",
    "Deploying application using LangServe"
   ]
  },
  {
   "cell_type": "code",
   "execution_count": 9,
   "id": "1bdf1eab",
   "metadata": {},
   "outputs": [],
   "source": [
    "### Open AI API Key and Open source models -Llama3, Gemma2, mistral --Groq\n",
    "\n",
    "import os\n",
    "from dotenv import load_dotenv\n",
    "load_dotenv()\n",
    "\n",
    "import openai\n",
    "openai.api_key = os.getenv(\"OPENAI_API_KEY\")\n",
    "\n",
    "\n",
    "\n"
   ]
  },
  {
   "cell_type": "code",
   "execution_count": 10,
   "id": "3d6c9804",
   "metadata": {},
   "outputs": [
    {
     "name": "stdout",
     "output_type": "stream",
     "text": [
      "Requirement already satisfied: langchain in d:\\anaconda\\envs\\env-01\\lib\\site-packages (from -r requirements.txt (line 1)) (0.3.23)\n",
      "Requirement already satisfied: python-dotenv in d:\\anaconda\\envs\\env-01\\lib\\site-packages (from -r requirements.txt (line 2)) (1.1.0)\n",
      "Requirement already satisfied: langchain-openai in d:\\anaconda\\envs\\env-01\\lib\\site-packages (from -r requirements.txt (line 3)) (0.3.12)\n",
      "Requirement already satisfied: beautifulsoup4 in d:\\anaconda\\envs\\env-01\\lib\\site-packages (from -r requirements.txt (line 4)) (4.13.3)\n",
      "Requirement already satisfied: langchain_community in d:\\anaconda\\envs\\env-01\\lib\\site-packages (from -r requirements.txt (line 5)) (0.3.21)\n",
      "Requirement already satisfied: faiss-cpu in d:\\anaconda\\envs\\env-01\\lib\\site-packages (from -r requirements.txt (line 6)) (1.10.0)\n",
      "Requirement already satisfied: streamlit in d:\\anaconda\\envs\\env-01\\lib\\site-packages (from -r requirements.txt (line 7)) (1.44.1)\n",
      "Requirement already satisfied: langchain_ollama in d:\\anaconda\\envs\\env-01\\lib\\site-packages (from -r requirements.txt (line 8)) (0.3.1)\n",
      "Requirement already satisfied: langchain_groq in d:\\anaconda\\envs\\env-01\\lib\\site-packages (from -r requirements.txt (line 10)) (0.3.2)\n",
      "Requirement already satisfied: langchain_core in d:\\anaconda\\envs\\env-01\\lib\\site-packages (from -r requirements.txt (line 11)) (0.3.51)\n",
      "Requirement already satisfied: langchain-text-splitters<1.0.0,>=0.3.8 in d:\\anaconda\\envs\\env-01\\lib\\site-packages (from langchain->-r requirements.txt (line 1)) (0.3.8)\n",
      "Requirement already satisfied: langsmith<0.4,>=0.1.17 in d:\\anaconda\\envs\\env-01\\lib\\site-packages (from langchain->-r requirements.txt (line 1)) (0.3.26)\n",
      "Requirement already satisfied: pydantic<3.0.0,>=2.7.4 in d:\\anaconda\\envs\\env-01\\lib\\site-packages (from langchain->-r requirements.txt (line 1)) (2.11.2)\n",
      "Requirement already satisfied: SQLAlchemy<3,>=1.4 in d:\\anaconda\\envs\\env-01\\lib\\site-packages (from langchain->-r requirements.txt (line 1)) (2.0.40)\n",
      "Requirement already satisfied: requests<3,>=2 in d:\\anaconda\\envs\\env-01\\lib\\site-packages (from langchain->-r requirements.txt (line 1)) (2.32.3)\n",
      "Requirement already satisfied: PyYAML>=5.3 in d:\\anaconda\\envs\\env-01\\lib\\site-packages (from langchain->-r requirements.txt (line 1)) (6.0.2)\n",
      "Requirement already satisfied: async-timeout<5.0.0,>=4.0.0 in d:\\anaconda\\envs\\env-01\\lib\\site-packages (from langchain->-r requirements.txt (line 1)) (4.0.3)\n",
      "Requirement already satisfied: openai<2.0.0,>=1.68.2 in d:\\anaconda\\envs\\env-01\\lib\\site-packages (from langchain-openai->-r requirements.txt (line 3)) (1.71.0)\n",
      "Requirement already satisfied: tiktoken<1,>=0.7 in d:\\anaconda\\envs\\env-01\\lib\\site-packages (from langchain-openai->-r requirements.txt (line 3)) (0.9.0)\n",
      "Requirement already satisfied: soupsieve>1.2 in d:\\anaconda\\envs\\env-01\\lib\\site-packages (from beautifulsoup4->-r requirements.txt (line 4)) (2.6)\n",
      "Requirement already satisfied: typing-extensions>=4.0.0 in d:\\anaconda\\envs\\env-01\\lib\\site-packages (from beautifulsoup4->-r requirements.txt (line 4)) (4.13.1)\n",
      "Requirement already satisfied: aiohttp<4.0.0,>=3.8.3 in d:\\anaconda\\envs\\env-01\\lib\\site-packages (from langchain_community->-r requirements.txt (line 5)) (3.11.16)\n",
      "Requirement already satisfied: tenacity!=8.4.0,<10,>=8.1.0 in d:\\anaconda\\envs\\env-01\\lib\\site-packages (from langchain_community->-r requirements.txt (line 5)) (9.1.2)\n",
      "Requirement already satisfied: dataclasses-json<0.7,>=0.5.7 in d:\\anaconda\\envs\\env-01\\lib\\site-packages (from langchain_community->-r requirements.txt (line 5)) (0.6.7)\n",
      "Requirement already satisfied: pydantic-settings<3.0.0,>=2.4.0 in d:\\anaconda\\envs\\env-01\\lib\\site-packages (from langchain_community->-r requirements.txt (line 5)) (2.8.1)\n",
      "Requirement already satisfied: httpx-sse<1.0.0,>=0.4.0 in d:\\anaconda\\envs\\env-01\\lib\\site-packages (from langchain_community->-r requirements.txt (line 5)) (0.4.0)\n",
      "Requirement already satisfied: numpy<3,>=1.26.2 in d:\\anaconda\\envs\\env-01\\lib\\site-packages (from langchain_community->-r requirements.txt (line 5)) (2.2.4)\n",
      "Requirement already satisfied: packaging in d:\\anaconda\\envs\\env-01\\lib\\site-packages (from faiss-cpu->-r requirements.txt (line 6)) (24.2)\n",
      "Requirement already satisfied: altair<6,>=4.0 in d:\\anaconda\\envs\\env-01\\lib\\site-packages (from streamlit->-r requirements.txt (line 7)) (5.5.0)\n",
      "Requirement already satisfied: blinker<2,>=1.0.0 in d:\\anaconda\\envs\\env-01\\lib\\site-packages (from streamlit->-r requirements.txt (line 7)) (1.9.0)\n",
      "Requirement already satisfied: cachetools<6,>=4.0 in d:\\anaconda\\envs\\env-01\\lib\\site-packages (from streamlit->-r requirements.txt (line 7)) (5.5.2)\n",
      "Requirement already satisfied: click<9,>=7.0 in d:\\anaconda\\envs\\env-01\\lib\\site-packages (from streamlit->-r requirements.txt (line 7)) (8.1.8)\n",
      "Requirement already satisfied: pandas<3,>=1.4.0 in d:\\anaconda\\envs\\env-01\\lib\\site-packages (from streamlit->-r requirements.txt (line 7)) (2.2.3)\n",
      "Requirement already satisfied: pillow<12,>=7.1.0 in d:\\anaconda\\envs\\env-01\\lib\\site-packages (from streamlit->-r requirements.txt (line 7)) (11.1.0)\n",
      "Requirement already satisfied: protobuf<6,>=3.20 in d:\\anaconda\\envs\\env-01\\lib\\site-packages (from streamlit->-r requirements.txt (line 7)) (5.29.4)\n",
      "Requirement already satisfied: pyarrow>=7.0 in d:\\anaconda\\envs\\env-01\\lib\\site-packages (from streamlit->-r requirements.txt (line 7)) (19.0.1)\n",
      "Requirement already satisfied: toml<2,>=0.10.1 in d:\\anaconda\\envs\\env-01\\lib\\site-packages (from streamlit->-r requirements.txt (line 7)) (0.10.2)\n",
      "Requirement already satisfied: watchdog<7,>=2.1.5 in d:\\anaconda\\envs\\env-01\\lib\\site-packages (from streamlit->-r requirements.txt (line 7)) (6.0.0)\n",
      "Requirement already satisfied: gitpython!=3.1.19,<4,>=3.0.7 in d:\\anaconda\\envs\\env-01\\lib\\site-packages (from streamlit->-r requirements.txt (line 7)) (3.1.44)\n",
      "Requirement already satisfied: pydeck<1,>=0.8.0b4 in d:\\anaconda\\envs\\env-01\\lib\\site-packages (from streamlit->-r requirements.txt (line 7)) (0.9.1)\n",
      "Requirement already satisfied: tornado<7,>=6.0.3 in d:\\anaconda\\envs\\env-01\\lib\\site-packages (from streamlit->-r requirements.txt (line 7)) (6.4.2)\n",
      "Requirement already satisfied: ollama<1,>=0.4.4 in d:\\anaconda\\envs\\env-01\\lib\\site-packages (from langchain_ollama->-r requirements.txt (line 8)) (0.4.7)\n",
      "Requirement already satisfied: groq<1,>=0.4.1 in d:\\anaconda\\envs\\env-01\\lib\\site-packages (from langchain_groq->-r requirements.txt (line 10)) (0.22.0)\n",
      "Requirement already satisfied: jsonpatch<2.0,>=1.33 in d:\\anaconda\\envs\\env-01\\lib\\site-packages (from langchain_core->-r requirements.txt (line 11)) (1.33)\n",
      "Requirement already satisfied: aiohappyeyeballs>=2.3.0 in d:\\anaconda\\envs\\env-01\\lib\\site-packages (from aiohttp<4.0.0,>=3.8.3->langchain_community->-r requirements.txt (line 5)) (2.6.1)\n",
      "Requirement already satisfied: aiosignal>=1.1.2 in d:\\anaconda\\envs\\env-01\\lib\\site-packages (from aiohttp<4.0.0,>=3.8.3->langchain_community->-r requirements.txt (line 5)) (1.3.2)\n",
      "Requirement already satisfied: attrs>=17.3.0 in d:\\anaconda\\envs\\env-01\\lib\\site-packages (from aiohttp<4.0.0,>=3.8.3->langchain_community->-r requirements.txt (line 5)) (25.3.0)\n",
      "Requirement already satisfied: frozenlist>=1.1.1 in d:\\anaconda\\envs\\env-01\\lib\\site-packages (from aiohttp<4.0.0,>=3.8.3->langchain_community->-r requirements.txt (line 5)) (1.5.0)\n",
      "Requirement already satisfied: multidict<7.0,>=4.5 in d:\\anaconda\\envs\\env-01\\lib\\site-packages (from aiohttp<4.0.0,>=3.8.3->langchain_community->-r requirements.txt (line 5)) (6.3.2)\n",
      "Requirement already satisfied: propcache>=0.2.0 in d:\\anaconda\\envs\\env-01\\lib\\site-packages (from aiohttp<4.0.0,>=3.8.3->langchain_community->-r requirements.txt (line 5)) (0.3.1)\n",
      "Requirement already satisfied: yarl<2.0,>=1.17.0 in d:\\anaconda\\envs\\env-01\\lib\\site-packages (from aiohttp<4.0.0,>=3.8.3->langchain_community->-r requirements.txt (line 5)) (1.19.0)\n",
      "Requirement already satisfied: jinja2 in d:\\anaconda\\envs\\env-01\\lib\\site-packages (from altair<6,>=4.0->streamlit->-r requirements.txt (line 7)) (3.1.6)\n",
      "Requirement already satisfied: jsonschema>=3.0 in d:\\anaconda\\envs\\env-01\\lib\\site-packages (from altair<6,>=4.0->streamlit->-r requirements.txt (line 7)) (4.23.0)\n",
      "Requirement already satisfied: narwhals>=1.14.2 in d:\\anaconda\\envs\\env-01\\lib\\site-packages (from altair<6,>=4.0->streamlit->-r requirements.txt (line 7)) (1.34.1)\n",
      "Requirement already satisfied: colorama in d:\\anaconda\\envs\\env-01\\lib\\site-packages (from click<9,>=7.0->streamlit->-r requirements.txt (line 7)) (0.4.6)\n",
      "Requirement already satisfied: marshmallow<4.0.0,>=3.18.0 in d:\\anaconda\\envs\\env-01\\lib\\site-packages (from dataclasses-json<0.7,>=0.5.7->langchain_community->-r requirements.txt (line 5)) (3.26.1)\n",
      "Requirement already satisfied: typing-inspect<1,>=0.4.0 in d:\\anaconda\\envs\\env-01\\lib\\site-packages (from dataclasses-json<0.7,>=0.5.7->langchain_community->-r requirements.txt (line 5)) (0.9.0)\n",
      "Requirement already satisfied: gitdb<5,>=4.0.1 in d:\\anaconda\\envs\\env-01\\lib\\site-packages (from gitpython!=3.1.19,<4,>=3.0.7->streamlit->-r requirements.txt (line 7)) (4.0.12)\n",
      "Requirement already satisfied: anyio<5,>=3.5.0 in d:\\anaconda\\envs\\env-01\\lib\\site-packages (from groq<1,>=0.4.1->langchain_groq->-r requirements.txt (line 10)) (4.9.0)\n",
      "Requirement already satisfied: distro<2,>=1.7.0 in d:\\anaconda\\envs\\env-01\\lib\\site-packages (from groq<1,>=0.4.1->langchain_groq->-r requirements.txt (line 10)) (1.9.0)\n",
      "Requirement already satisfied: httpx<1,>=0.23.0 in d:\\anaconda\\envs\\env-01\\lib\\site-packages (from groq<1,>=0.4.1->langchain_groq->-r requirements.txt (line 10)) (0.28.1)\n",
      "Requirement already satisfied: sniffio in d:\\anaconda\\envs\\env-01\\lib\\site-packages (from groq<1,>=0.4.1->langchain_groq->-r requirements.txt (line 10)) (1.3.1)\n",
      "Requirement already satisfied: jsonpointer>=1.9 in d:\\anaconda\\envs\\env-01\\lib\\site-packages (from jsonpatch<2.0,>=1.33->langchain_core->-r requirements.txt (line 11)) (3.0.0)\n",
      "Requirement already satisfied: orjson<4.0.0,>=3.9.14 in d:\\anaconda\\envs\\env-01\\lib\\site-packages (from langsmith<0.4,>=0.1.17->langchain->-r requirements.txt (line 1)) (3.10.16)\n",
      "Requirement already satisfied: requests-toolbelt<2.0.0,>=1.0.0 in d:\\anaconda\\envs\\env-01\\lib\\site-packages (from langsmith<0.4,>=0.1.17->langchain->-r requirements.txt (line 1)) (1.0.0)\n",
      "Requirement already satisfied: zstandard<0.24.0,>=0.23.0 in d:\\anaconda\\envs\\env-01\\lib\\site-packages (from langsmith<0.4,>=0.1.17->langchain->-r requirements.txt (line 1)) (0.23.0)\n",
      "Requirement already satisfied: jiter<1,>=0.4.0 in d:\\anaconda\\envs\\env-01\\lib\\site-packages (from openai<2.0.0,>=1.68.2->langchain-openai->-r requirements.txt (line 3)) (0.9.0)\n",
      "Requirement already satisfied: tqdm>4 in d:\\anaconda\\envs\\env-01\\lib\\site-packages (from openai<2.0.0,>=1.68.2->langchain-openai->-r requirements.txt (line 3)) (4.67.1)\n",
      "Requirement already satisfied: python-dateutil>=2.8.2 in d:\\anaconda\\envs\\env-01\\lib\\site-packages (from pandas<3,>=1.4.0->streamlit->-r requirements.txt (line 7)) (2.9.0.post0)\n",
      "Requirement already satisfied: pytz>=2020.1 in d:\\anaconda\\envs\\env-01\\lib\\site-packages (from pandas<3,>=1.4.0->streamlit->-r requirements.txt (line 7)) (2025.2)\n",
      "Requirement already satisfied: tzdata>=2022.7 in d:\\anaconda\\envs\\env-01\\lib\\site-packages (from pandas<3,>=1.4.0->streamlit->-r requirements.txt (line 7)) (2025.2)\n",
      "Requirement already satisfied: annotated-types>=0.6.0 in d:\\anaconda\\envs\\env-01\\lib\\site-packages (from pydantic<3.0.0,>=2.7.4->langchain->-r requirements.txt (line 1)) (0.7.0)\n",
      "Requirement already satisfied: pydantic-core==2.33.1 in d:\\anaconda\\envs\\env-01\\lib\\site-packages (from pydantic<3.0.0,>=2.7.4->langchain->-r requirements.txt (line 1)) (2.33.1)\n",
      "Requirement already satisfied: typing-inspection>=0.4.0 in d:\\anaconda\\envs\\env-01\\lib\\site-packages (from pydantic<3.0.0,>=2.7.4->langchain->-r requirements.txt (line 1)) (0.4.0)\n",
      "Requirement already satisfied: charset-normalizer<4,>=2 in d:\\anaconda\\envs\\env-01\\lib\\site-packages (from requests<3,>=2->langchain->-r requirements.txt (line 1)) (3.4.1)\n",
      "Requirement already satisfied: idna<4,>=2.5 in d:\\anaconda\\envs\\env-01\\lib\\site-packages (from requests<3,>=2->langchain->-r requirements.txt (line 1)) (3.10)\n",
      "Requirement already satisfied: urllib3<3,>=1.21.1 in d:\\anaconda\\envs\\env-01\\lib\\site-packages (from requests<3,>=2->langchain->-r requirements.txt (line 1)) (2.3.0)\n",
      "Requirement already satisfied: certifi>=2017.4.17 in d:\\anaconda\\envs\\env-01\\lib\\site-packages (from requests<3,>=2->langchain->-r requirements.txt (line 1)) (2025.1.31)\n",
      "Requirement already satisfied: greenlet>=1 in d:\\anaconda\\envs\\env-01\\lib\\site-packages (from SQLAlchemy<3,>=1.4->langchain->-r requirements.txt (line 1)) (3.1.1)\n",
      "Requirement already satisfied: regex>=2022.1.18 in d:\\anaconda\\envs\\env-01\\lib\\site-packages (from tiktoken<1,>=0.7->langchain-openai->-r requirements.txt (line 3)) (2024.11.6)\n",
      "Requirement already satisfied: exceptiongroup>=1.0.2 in d:\\anaconda\\envs\\env-01\\lib\\site-packages (from anyio<5,>=3.5.0->groq<1,>=0.4.1->langchain_groq->-r requirements.txt (line 10)) (1.2.2)\n",
      "Requirement already satisfied: smmap<6,>=3.0.1 in d:\\anaconda\\envs\\env-01\\lib\\site-packages (from gitdb<5,>=4.0.1->gitpython!=3.1.19,<4,>=3.0.7->streamlit->-r requirements.txt (line 7)) (5.0.2)\n",
      "Requirement already satisfied: httpcore==1.* in d:\\anaconda\\envs\\env-01\\lib\\site-packages (from httpx<1,>=0.23.0->groq<1,>=0.4.1->langchain_groq->-r requirements.txt (line 10)) (1.0.7)\n",
      "Requirement already satisfied: h11<0.15,>=0.13 in d:\\anaconda\\envs\\env-01\\lib\\site-packages (from httpcore==1.*->httpx<1,>=0.23.0->groq<1,>=0.4.1->langchain_groq->-r requirements.txt (line 10)) (0.14.0)\n",
      "Requirement already satisfied: MarkupSafe>=2.0 in d:\\anaconda\\envs\\env-01\\lib\\site-packages (from jinja2->altair<6,>=4.0->streamlit->-r requirements.txt (line 7)) (3.0.2)\n",
      "Requirement already satisfied: jsonschema-specifications>=2023.03.6 in d:\\anaconda\\envs\\env-01\\lib\\site-packages (from jsonschema>=3.0->altair<6,>=4.0->streamlit->-r requirements.txt (line 7)) (2024.10.1)\n",
      "Requirement already satisfied: referencing>=0.28.4 in d:\\anaconda\\envs\\env-01\\lib\\site-packages (from jsonschema>=3.0->altair<6,>=4.0->streamlit->-r requirements.txt (line 7)) (0.36.2)\n",
      "Requirement already satisfied: rpds-py>=0.7.1 in d:\\anaconda\\envs\\env-01\\lib\\site-packages (from jsonschema>=3.0->altair<6,>=4.0->streamlit->-r requirements.txt (line 7)) (0.24.0)\n",
      "Requirement already satisfied: six>=1.5 in d:\\anaconda\\envs\\env-01\\lib\\site-packages (from python-dateutil>=2.8.2->pandas<3,>=1.4.0->streamlit->-r requirements.txt (line 7)) (1.17.0)\n",
      "Requirement already satisfied: mypy-extensions>=0.3.0 in d:\\anaconda\\envs\\env-01\\lib\\site-packages (from typing-inspect<1,>=0.4.0->dataclasses-json<0.7,>=0.5.7->langchain_community->-r requirements.txt (line 5)) (1.0.0)\n",
      "Note: you may need to restart the kernel to use updated packages.\n"
     ]
    }
   ],
   "source": [
    "pip install -r requirements.txt\n"
   ]
  },
  {
   "cell_type": "code",
   "execution_count": 11,
   "id": "e328c9a7",
   "metadata": {},
   "outputs": [
    {
     "data": {
      "text/plain": [
       "ChatGroq(client=<groq.resources.chat.completions.Completions object at 0x000002A2D5953E20>, async_client=<groq.resources.chat.completions.AsyncCompletions object at 0x000002A2D59852D0>, model_name='deepseek-r1-distill-qwen-32b', model_kwargs={}, groq_api_key=SecretStr('**********'))"
      ]
     },
     "execution_count": 11,
     "metadata": {},
     "output_type": "execute_result"
    }
   ],
   "source": [
    "from langchain_openai import ChatOpenAI\n",
    "from langchain_groq import ChatGroq\n",
    "\n",
    "\n",
    "groq_api_key = os.getenv(\"GROQ_API_KEY\")\n",
    "\n",
    "model=ChatGroq(model=\"deepseek-r1-distill-qwen-32b\",groq_api_key=groq_api_key)\n",
    "model\n",
    "\n",
    "\n"
   ]
  },
  {
   "cell_type": "code",
   "execution_count": 6,
   "id": "61254bbd",
   "metadata": {},
   "outputs": [
    {
     "name": "stdout",
     "output_type": "stream",
     "text": [
      "Requirement already satisfied: langchain in d:\\anaconda\\envs\\env-01\\lib\\site-packages (from -r requirements.txt (line 1)) (0.3.23)\n",
      "Requirement already satisfied: python-dotenv in d:\\anaconda\\envs\\env-01\\lib\\site-packages (from -r requirements.txt (line 2)) (1.1.0)\n",
      "Requirement already satisfied: langchain-openai in d:\\anaconda\\envs\\env-01\\lib\\site-packages (from -r requirements.txt (line 3)) (0.3.12)\n",
      "Requirement already satisfied: beautifulsoup4 in d:\\anaconda\\envs\\env-01\\lib\\site-packages (from -r requirements.txt (line 4)) (4.13.3)\n",
      "Requirement already satisfied: langchain_community in d:\\anaconda\\envs\\env-01\\lib\\site-packages (from -r requirements.txt (line 5)) (0.3.21)\n",
      "Requirement already satisfied: faiss-cpu in d:\\anaconda\\envs\\env-01\\lib\\site-packages (from -r requirements.txt (line 6)) (1.10.0)\n",
      "Requirement already satisfied: streamlit in d:\\anaconda\\envs\\env-01\\lib\\site-packages (from -r requirements.txt (line 7)) (1.44.1)\n",
      "Requirement already satisfied: langchain_ollama in d:\\anaconda\\envs\\env-01\\lib\\site-packages (from -r requirements.txt (line 8)) (0.3.1)\n",
      "Requirement already satisfied: langchain_groq in d:\\anaconda\\envs\\env-01\\lib\\site-packages (from -r requirements.txt (line 10)) (0.3.2)\n",
      "Requirement already satisfied: langchain_core in d:\\anaconda\\envs\\env-01\\lib\\site-packages (from -r requirements.txt (line 11)) (0.3.51)\n",
      "Requirement already satisfied: langchain-text-splitters<1.0.0,>=0.3.8 in d:\\anaconda\\envs\\env-01\\lib\\site-packages (from langchain->-r requirements.txt (line 1)) (0.3.8)\n",
      "Requirement already satisfied: langsmith<0.4,>=0.1.17 in d:\\anaconda\\envs\\env-01\\lib\\site-packages (from langchain->-r requirements.txt (line 1)) (0.3.26)\n",
      "Requirement already satisfied: pydantic<3.0.0,>=2.7.4 in d:\\anaconda\\envs\\env-01\\lib\\site-packages (from langchain->-r requirements.txt (line 1)) (2.11.2)\n",
      "Requirement already satisfied: SQLAlchemy<3,>=1.4 in d:\\anaconda\\envs\\env-01\\lib\\site-packages (from langchain->-r requirements.txt (line 1)) (2.0.40)\n",
      "Requirement already satisfied: requests<3,>=2 in d:\\anaconda\\envs\\env-01\\lib\\site-packages (from langchain->-r requirements.txt (line 1)) (2.32.3)\n",
      "Requirement already satisfied: PyYAML>=5.3 in d:\\anaconda\\envs\\env-01\\lib\\site-packages (from langchain->-r requirements.txt (line 1)) (6.0.2)\n",
      "Requirement already satisfied: async-timeout<5.0.0,>=4.0.0 in d:\\anaconda\\envs\\env-01\\lib\\site-packages (from langchain->-r requirements.txt (line 1)) (4.0.3)\n",
      "Requirement already satisfied: openai<2.0.0,>=1.68.2 in d:\\anaconda\\envs\\env-01\\lib\\site-packages (from langchain-openai->-r requirements.txt (line 3)) (1.71.0)\n",
      "Requirement already satisfied: tiktoken<1,>=0.7 in d:\\anaconda\\envs\\env-01\\lib\\site-packages (from langchain-openai->-r requirements.txt (line 3)) (0.9.0)\n",
      "Requirement already satisfied: soupsieve>1.2 in d:\\anaconda\\envs\\env-01\\lib\\site-packages (from beautifulsoup4->-r requirements.txt (line 4)) (2.6)\n",
      "Requirement already satisfied: typing-extensions>=4.0.0 in d:\\anaconda\\envs\\env-01\\lib\\site-packages (from beautifulsoup4->-r requirements.txt (line 4)) (4.13.1)\n",
      "Requirement already satisfied: aiohttp<4.0.0,>=3.8.3 in d:\\anaconda\\envs\\env-01\\lib\\site-packages (from langchain_community->-r requirements.txt (line 5)) (3.11.16)\n",
      "Requirement already satisfied: tenacity!=8.4.0,<10,>=8.1.0 in d:\\anaconda\\envs\\env-01\\lib\\site-packages (from langchain_community->-r requirements.txt (line 5)) (9.1.2)\n",
      "Requirement already satisfied: dataclasses-json<0.7,>=0.5.7 in d:\\anaconda\\envs\\env-01\\lib\\site-packages (from langchain_community->-r requirements.txt (line 5)) (0.6.7)\n",
      "Requirement already satisfied: pydantic-settings<3.0.0,>=2.4.0 in d:\\anaconda\\envs\\env-01\\lib\\site-packages (from langchain_community->-r requirements.txt (line 5)) (2.8.1)\n",
      "Requirement already satisfied: httpx-sse<1.0.0,>=0.4.0 in d:\\anaconda\\envs\\env-01\\lib\\site-packages (from langchain_community->-r requirements.txt (line 5)) (0.4.0)\n",
      "Requirement already satisfied: numpy<3,>=1.26.2 in d:\\anaconda\\envs\\env-01\\lib\\site-packages (from langchain_community->-r requirements.txt (line 5)) (2.2.4)\n",
      "Requirement already satisfied: packaging in d:\\anaconda\\envs\\env-01\\lib\\site-packages (from faiss-cpu->-r requirements.txt (line 6)) (24.2)\n",
      "Requirement already satisfied: altair<6,>=4.0 in d:\\anaconda\\envs\\env-01\\lib\\site-packages (from streamlit->-r requirements.txt (line 7)) (5.5.0)\n",
      "Requirement already satisfied: blinker<2,>=1.0.0 in d:\\anaconda\\envs\\env-01\\lib\\site-packages (from streamlit->-r requirements.txt (line 7)) (1.9.0)\n",
      "Requirement already satisfied: cachetools<6,>=4.0 in d:\\anaconda\\envs\\env-01\\lib\\site-packages (from streamlit->-r requirements.txt (line 7)) (5.5.2)\n",
      "Requirement already satisfied: click<9,>=7.0 in d:\\anaconda\\envs\\env-01\\lib\\site-packages (from streamlit->-r requirements.txt (line 7)) (8.1.8)\n",
      "Requirement already satisfied: pandas<3,>=1.4.0 in d:\\anaconda\\envs\\env-01\\lib\\site-packages (from streamlit->-r requirements.txt (line 7)) (2.2.3)\n",
      "Requirement already satisfied: pillow<12,>=7.1.0 in d:\\anaconda\\envs\\env-01\\lib\\site-packages (from streamlit->-r requirements.txt (line 7)) (11.1.0)\n",
      "Requirement already satisfied: protobuf<6,>=3.20 in d:\\anaconda\\envs\\env-01\\lib\\site-packages (from streamlit->-r requirements.txt (line 7)) (5.29.4)\n",
      "Requirement already satisfied: pyarrow>=7.0 in d:\\anaconda\\envs\\env-01\\lib\\site-packages (from streamlit->-r requirements.txt (line 7)) (19.0.1)\n",
      "Requirement already satisfied: toml<2,>=0.10.1 in d:\\anaconda\\envs\\env-01\\lib\\site-packages (from streamlit->-r requirements.txt (line 7)) (0.10.2)\n",
      "Requirement already satisfied: watchdog<7,>=2.1.5 in d:\\anaconda\\envs\\env-01\\lib\\site-packages (from streamlit->-r requirements.txt (line 7)) (6.0.0)\n",
      "Requirement already satisfied: gitpython!=3.1.19,<4,>=3.0.7 in d:\\anaconda\\envs\\env-01\\lib\\site-packages (from streamlit->-r requirements.txt (line 7)) (3.1.44)\n",
      "Requirement already satisfied: pydeck<1,>=0.8.0b4 in d:\\anaconda\\envs\\env-01\\lib\\site-packages (from streamlit->-r requirements.txt (line 7)) (0.9.1)\n",
      "Requirement already satisfied: tornado<7,>=6.0.3 in d:\\anaconda\\envs\\env-01\\lib\\site-packages (from streamlit->-r requirements.txt (line 7)) (6.4.2)\n",
      "Requirement already satisfied: ollama<1,>=0.4.4 in d:\\anaconda\\envs\\env-01\\lib\\site-packages (from langchain_ollama->-r requirements.txt (line 8)) (0.4.7)\n",
      "Requirement already satisfied: groq<1,>=0.4.1 in d:\\anaconda\\envs\\env-01\\lib\\site-packages (from langchain_groq->-r requirements.txt (line 10)) (0.22.0)\n",
      "Requirement already satisfied: jsonpatch<2.0,>=1.33 in d:\\anaconda\\envs\\env-01\\lib\\site-packages (from langchain_core->-r requirements.txt (line 11)) (1.33)\n",
      "Requirement already satisfied: aiohappyeyeballs>=2.3.0 in d:\\anaconda\\envs\\env-01\\lib\\site-packages (from aiohttp<4.0.0,>=3.8.3->langchain_community->-r requirements.txt (line 5)) (2.6.1)\n",
      "Requirement already satisfied: aiosignal>=1.1.2 in d:\\anaconda\\envs\\env-01\\lib\\site-packages (from aiohttp<4.0.0,>=3.8.3->langchain_community->-r requirements.txt (line 5)) (1.3.2)\n",
      "Requirement already satisfied: attrs>=17.3.0 in d:\\anaconda\\envs\\env-01\\lib\\site-packages (from aiohttp<4.0.0,>=3.8.3->langchain_community->-r requirements.txt (line 5)) (25.3.0)\n",
      "Requirement already satisfied: frozenlist>=1.1.1 in d:\\anaconda\\envs\\env-01\\lib\\site-packages (from aiohttp<4.0.0,>=3.8.3->langchain_community->-r requirements.txt (line 5)) (1.5.0)\n",
      "Requirement already satisfied: multidict<7.0,>=4.5 in d:\\anaconda\\envs\\env-01\\lib\\site-packages (from aiohttp<4.0.0,>=3.8.3->langchain_community->-r requirements.txt (line 5)) (6.3.2)\n",
      "Requirement already satisfied: propcache>=0.2.0 in d:\\anaconda\\envs\\env-01\\lib\\site-packages (from aiohttp<4.0.0,>=3.8.3->langchain_community->-r requirements.txt (line 5)) (0.3.1)\n",
      "Requirement already satisfied: yarl<2.0,>=1.17.0 in d:\\anaconda\\envs\\env-01\\lib\\site-packages (from aiohttp<4.0.0,>=3.8.3->langchain_community->-r requirements.txt (line 5)) (1.19.0)\n",
      "Requirement already satisfied: jinja2 in d:\\anaconda\\envs\\env-01\\lib\\site-packages (from altair<6,>=4.0->streamlit->-r requirements.txt (line 7)) (3.1.6)\n",
      "Requirement already satisfied: jsonschema>=3.0 in d:\\anaconda\\envs\\env-01\\lib\\site-packages (from altair<6,>=4.0->streamlit->-r requirements.txt (line 7)) (4.23.0)\n",
      "Requirement already satisfied: narwhals>=1.14.2 in d:\\anaconda\\envs\\env-01\\lib\\site-packages (from altair<6,>=4.0->streamlit->-r requirements.txt (line 7)) (1.34.1)\n",
      "Requirement already satisfied: colorama in d:\\anaconda\\envs\\env-01\\lib\\site-packages (from click<9,>=7.0->streamlit->-r requirements.txt (line 7)) (0.4.6)\n",
      "Requirement already satisfied: marshmallow<4.0.0,>=3.18.0 in d:\\anaconda\\envs\\env-01\\lib\\site-packages (from dataclasses-json<0.7,>=0.5.7->langchain_community->-r requirements.txt (line 5)) (3.26.1)\n",
      "Requirement already satisfied: typing-inspect<1,>=0.4.0 in d:\\anaconda\\envs\\env-01\\lib\\site-packages (from dataclasses-json<0.7,>=0.5.7->langchain_community->-r requirements.txt (line 5)) (0.9.0)\n",
      "Requirement already satisfied: gitdb<5,>=4.0.1 in d:\\anaconda\\envs\\env-01\\lib\\site-packages (from gitpython!=3.1.19,<4,>=3.0.7->streamlit->-r requirements.txt (line 7)) (4.0.12)\n",
      "Requirement already satisfied: anyio<5,>=3.5.0 in d:\\anaconda\\envs\\env-01\\lib\\site-packages (from groq<1,>=0.4.1->langchain_groq->-r requirements.txt (line 10)) (4.9.0)\n",
      "Requirement already satisfied: distro<2,>=1.7.0 in d:\\anaconda\\envs\\env-01\\lib\\site-packages (from groq<1,>=0.4.1->langchain_groq->-r requirements.txt (line 10)) (1.9.0)\n",
      "Requirement already satisfied: httpx<1,>=0.23.0 in d:\\anaconda\\envs\\env-01\\lib\\site-packages (from groq<1,>=0.4.1->langchain_groq->-r requirements.txt (line 10)) (0.28.1)\n",
      "Requirement already satisfied: sniffio in d:\\anaconda\\envs\\env-01\\lib\\site-packages (from groq<1,>=0.4.1->langchain_groq->-r requirements.txt (line 10)) (1.3.1)\n",
      "Requirement already satisfied: jsonpointer>=1.9 in d:\\anaconda\\envs\\env-01\\lib\\site-packages (from jsonpatch<2.0,>=1.33->langchain_core->-r requirements.txt (line 11)) (3.0.0)\n",
      "Requirement already satisfied: orjson<4.0.0,>=3.9.14 in d:\\anaconda\\envs\\env-01\\lib\\site-packages (from langsmith<0.4,>=0.1.17->langchain->-r requirements.txt (line 1)) (3.10.16)\n",
      "Requirement already satisfied: requests-toolbelt<2.0.0,>=1.0.0 in d:\\anaconda\\envs\\env-01\\lib\\site-packages (from langsmith<0.4,>=0.1.17->langchain->-r requirements.txt (line 1)) (1.0.0)\n",
      "Requirement already satisfied: zstandard<0.24.0,>=0.23.0 in d:\\anaconda\\envs\\env-01\\lib\\site-packages (from langsmith<0.4,>=0.1.17->langchain->-r requirements.txt (line 1)) (0.23.0)\n",
      "Requirement already satisfied: jiter<1,>=0.4.0 in d:\\anaconda\\envs\\env-01\\lib\\site-packages (from openai<2.0.0,>=1.68.2->langchain-openai->-r requirements.txt (line 3)) (0.9.0)\n",
      "Requirement already satisfied: tqdm>4 in d:\\anaconda\\envs\\env-01\\lib\\site-packages (from openai<2.0.0,>=1.68.2->langchain-openai->-r requirements.txt (line 3)) (4.67.1)\n",
      "Requirement already satisfied: python-dateutil>=2.8.2 in d:\\anaconda\\envs\\env-01\\lib\\site-packages (from pandas<3,>=1.4.0->streamlit->-r requirements.txt (line 7)) (2.9.0.post0)\n",
      "Requirement already satisfied: pytz>=2020.1 in d:\\anaconda\\envs\\env-01\\lib\\site-packages (from pandas<3,>=1.4.0->streamlit->-r requirements.txt (line 7)) (2025.2)\n",
      "Requirement already satisfied: tzdata>=2022.7 in d:\\anaconda\\envs\\env-01\\lib\\site-packages (from pandas<3,>=1.4.0->streamlit->-r requirements.txt (line 7)) (2025.2)\n",
      "Requirement already satisfied: annotated-types>=0.6.0 in d:\\anaconda\\envs\\env-01\\lib\\site-packages (from pydantic<3.0.0,>=2.7.4->langchain->-r requirements.txt (line 1)) (0.7.0)\n",
      "Requirement already satisfied: pydantic-core==2.33.1 in d:\\anaconda\\envs\\env-01\\lib\\site-packages (from pydantic<3.0.0,>=2.7.4->langchain->-r requirements.txt (line 1)) (2.33.1)\n",
      "Requirement already satisfied: typing-inspection>=0.4.0 in d:\\anaconda\\envs\\env-01\\lib\\site-packages (from pydantic<3.0.0,>=2.7.4->langchain->-r requirements.txt (line 1)) (0.4.0)\n",
      "Requirement already satisfied: charset-normalizer<4,>=2 in d:\\anaconda\\envs\\env-01\\lib\\site-packages (from requests<3,>=2->langchain->-r requirements.txt (line 1)) (3.4.1)\n",
      "Requirement already satisfied: idna<4,>=2.5 in d:\\anaconda\\envs\\env-01\\lib\\site-packages (from requests<3,>=2->langchain->-r requirements.txt (line 1)) (3.10)\n",
      "Requirement already satisfied: urllib3<3,>=1.21.1 in d:\\anaconda\\envs\\env-01\\lib\\site-packages (from requests<3,>=2->langchain->-r requirements.txt (line 1)) (2.3.0)\n",
      "Requirement already satisfied: certifi>=2017.4.17 in d:\\anaconda\\envs\\env-01\\lib\\site-packages (from requests<3,>=2->langchain->-r requirements.txt (line 1)) (2025.1.31)\n",
      "Requirement already satisfied: greenlet>=1 in d:\\anaconda\\envs\\env-01\\lib\\site-packages (from SQLAlchemy<3,>=1.4->langchain->-r requirements.txt (line 1)) (3.1.1)\n",
      "Requirement already satisfied: regex>=2022.1.18 in d:\\anaconda\\envs\\env-01\\lib\\site-packages (from tiktoken<1,>=0.7->langchain-openai->-r requirements.txt (line 3)) (2024.11.6)\n",
      "Requirement already satisfied: exceptiongroup>=1.0.2 in d:\\anaconda\\envs\\env-01\\lib\\site-packages (from anyio<5,>=3.5.0->groq<1,>=0.4.1->langchain_groq->-r requirements.txt (line 10)) (1.2.2)\n",
      "Requirement already satisfied: smmap<6,>=3.0.1 in d:\\anaconda\\envs\\env-01\\lib\\site-packages (from gitdb<5,>=4.0.1->gitpython!=3.1.19,<4,>=3.0.7->streamlit->-r requirements.txt (line 7)) (5.0.2)\n",
      "Requirement already satisfied: httpcore==1.* in d:\\anaconda\\envs\\env-01\\lib\\site-packages (from httpx<1,>=0.23.0->groq<1,>=0.4.1->langchain_groq->-r requirements.txt (line 10)) (1.0.7)\n",
      "Requirement already satisfied: h11<0.15,>=0.13 in d:\\anaconda\\envs\\env-01\\lib\\site-packages (from httpcore==1.*->httpx<1,>=0.23.0->groq<1,>=0.4.1->langchain_groq->-r requirements.txt (line 10)) (0.14.0)\n",
      "Requirement already satisfied: MarkupSafe>=2.0 in d:\\anaconda\\envs\\env-01\\lib\\site-packages (from jinja2->altair<6,>=4.0->streamlit->-r requirements.txt (line 7)) (3.0.2)\n",
      "Requirement already satisfied: jsonschema-specifications>=2023.03.6 in d:\\anaconda\\envs\\env-01\\lib\\site-packages (from jsonschema>=3.0->altair<6,>=4.0->streamlit->-r requirements.txt (line 7)) (2024.10.1)\n",
      "Requirement already satisfied: referencing>=0.28.4 in d:\\anaconda\\envs\\env-01\\lib\\site-packages (from jsonschema>=3.0->altair<6,>=4.0->streamlit->-r requirements.txt (line 7)) (0.36.2)\n",
      "Requirement already satisfied: rpds-py>=0.7.1 in d:\\anaconda\\envs\\env-01\\lib\\site-packages (from jsonschema>=3.0->altair<6,>=4.0->streamlit->-r requirements.txt (line 7)) (0.24.0)\n",
      "Requirement already satisfied: six>=1.5 in d:\\anaconda\\envs\\env-01\\lib\\site-packages (from python-dateutil>=2.8.2->pandas<3,>=1.4.0->streamlit->-r requirements.txt (line 7)) (1.17.0)\n",
      "Requirement already satisfied: mypy-extensions>=0.3.0 in d:\\anaconda\\envs\\env-01\\lib\\site-packages (from typing-inspect<1,>=0.4.0->dataclasses-json<0.7,>=0.5.7->langchain_community->-r requirements.txt (line 5)) (1.0.0)\n",
      "Note: you may need to restart the kernel to use updated packages.\n"
     ]
    }
   ],
   "source": [
    "pip install -r requirements.txt\n"
   ]
  },
  {
   "cell_type": "code",
   "execution_count": 13,
   "id": "36a4da10",
   "metadata": {},
   "outputs": [],
   "source": [
    "from langchain_core.messages import HumanMessage, SystemMessage\n",
    "\n",
    "messages=[\n",
    "    \n",
    "    SystemMessage(content=\"Translate the folloiwng from English to French\"),\n",
    "    HumanMessage(content=\"Hello! How Are You?\")\n",
    "]\n",
    "result=model.invoke(messages)"
   ]
  },
  {
   "cell_type": "code",
   "execution_count": 14,
   "id": "2fa50a39",
   "metadata": {},
   "outputs": [
    {
     "data": {
      "text/plain": [
       "AIMessage(content='<think>\\nAlright, so the user wants me to translate \"Hello! How Are You?\" into French. Let me break this down. First, \"Hello!\" in French is \"Bonjour!\" That\\'s straightforward.\\n\\nNow, for the second part, \"How Are You?\" I remember that in French, the common way to ask this is \"Comment ça va?\" or \"Comment allez-vous?\" depending on the formality. Since the original doesn\\'t specify, I\\'ll go with the more casual version, which is \"Comment ça va?\" because it\\'s widely used in everyday conversation.\\n\\nPutting it together, it should be \"Bonjour ! Comment ça va ?\" I think that\\'s correct. Let me double-check to make sure I didn\\'t mix up any phrases. Yeah, that looks right. I don\\'t think I made any mistakes there. It\\'s a simple translation, so hopefully, that\\'s what the user was looking for.\\n</think>\\n\\nBonjour ! Comment ça va ?', additional_kwargs={}, response_metadata={'token_usage': {'completion_tokens': 196, 'prompt_tokens': 19, 'total_tokens': 215, 'completion_time': 1.4, 'prompt_time': 0.003310994, 'queue_time': 0.050984361, 'total_time': 1.403310994}, 'model_name': 'deepseek-r1-distill-qwen-32b', 'system_fingerprint': 'fp_2e130d3c00', 'finish_reason': 'stop', 'logprobs': None}, id='run-5a79c9ce-5be8-4867-b387-23af74d49952-0', usage_metadata={'input_tokens': 19, 'output_tokens': 196, 'total_tokens': 215})"
      ]
     },
     "execution_count": 14,
     "metadata": {},
     "output_type": "execute_result"
    }
   ],
   "source": [
    "result"
   ]
  },
  {
   "cell_type": "code",
   "execution_count": 15,
   "id": "aa48e7ba",
   "metadata": {},
   "outputs": [
    {
     "data": {
      "text/plain": [
       "'<think>\\nAlright, so the user wants me to translate \"Hello! How Are You?\" into French. Let me break this down. First, \"Hello!\" in French is \"Bonjour!\" That\\'s straightforward.\\n\\nNow, for the second part, \"How Are You?\" I remember that in French, the common way to ask this is \"Comment ça va?\" or \"Comment allez-vous?\" depending on the formality. Since the original doesn\\'t specify, I\\'ll go with the more casual version, which is \"Comment ça va?\" because it\\'s widely used in everyday conversation.\\n\\nPutting it together, it should be \"Bonjour ! Comment ça va ?\" I think that\\'s correct. Let me double-check to make sure I didn\\'t mix up any phrases. Yeah, that looks right. I don\\'t think I made any mistakes there. It\\'s a simple translation, so hopefully, that\\'s what the user was looking for.\\n</think>\\n\\nBonjour ! Comment ça va ?'"
      ]
     },
     "execution_count": 15,
     "metadata": {},
     "output_type": "execute_result"
    }
   ],
   "source": [
    "from langchain_core.output_parsers import StrOutputParser\n",
    "parser=StrOutputParser()\n",
    "parser.invoke(result)"
   ]
  },
  {
   "cell_type": "code",
   "execution_count": 16,
   "id": "489d45bb",
   "metadata": {},
   "outputs": [
    {
     "data": {
      "text/plain": [
       "'<think>\\nOkay, so I need to translate the English phrase \"Hello! How Are You?\" into French. Let me break this down step by step. \\n\\nFirst, the greeting \"Hello!\" is pretty straightforward. In French, \"Hello\" is commonly translated as \"Bonjour.\" I\\'ve heard that before, so that seems correct. \\n\\nNext, the question part: \"How Are You?\" In English, this is a common way to ask someone how they\\'re doing. In French, the equivalent phrase is \"Comment ça va?\" I remember learning that \"Comment\" means \"how,\" \"ça\" is \"it\" or \"this,\" and \"va\" is the verb \"go\" in some form. So putting that together makes sense.\\n\\nI should also consider the punctuation. In the original English, there\\'s an exclamation mark after \"Hello!\" and a question mark after \"How Are You?\" So in French, it should maintain that structure. That would be \"Bonjour ! Comment ça va ?\"\\n\\nWait, is there another way to say \"How are you?\" in French? I think I\\'ve heard \"Comment allez-vous?\" before. That\\'s a bit more formal, right? So depending on the context, if it\\'s a formal situation, that might be better. But since the original is pretty casual, \"Comment ça va?\" should suffice.\\n\\nAlso, thinking about the structure, in French, it\\'s common to place the exclamation and question marks correctly. So \"Bonjour !\" with an exclamation mark and \"Comment ça va ?\" with a question mark. That seems right.\\n\\nI don\\'t think there are any regional differences here that would change the translation significantly. Both \"Bonjour\" and \"Comment ça va\" are widely understood in France and Francophone regions. \\n\\nIs there anything else I need to consider? Maybe the intonation or pronunciation, but since this is written translation, I don\\'t have to worry about that. So putting it all together, \"Bonjour ! Comment ça va ?\" should be the correct translation.\\n</think>\\n\\nBonjour ! Comment ça va ?'"
      ]
     },
     "execution_count": 16,
     "metadata": {},
     "output_type": "execute_result"
    }
   ],
   "source": [
    "### Using LCEL we can chain the components\n",
    "\n",
    "chain=model|parser\n",
    "chain.invoke(messages)\n"
   ]
  },
  {
   "cell_type": "code",
   "execution_count": null,
   "id": "e5ccb99a",
   "metadata": {},
   "outputs": [],
   "source": [
    "# Prompt Template\n",
    "\n",
    "from langchain_core.prompts import PromptTemplate"
   ]
  }
 ],
 "metadata": {
  "kernelspec": {
   "display_name": "env-01",
   "language": "python",
   "name": "python3"
  },
  "language_info": {
   "codemirror_mode": {
    "name": "ipython",
    "version": 3
   },
   "file_extension": ".py",
   "mimetype": "text/x-python",
   "name": "python",
   "nbconvert_exporter": "python",
   "pygments_lexer": "ipython3",
   "version": "3.10.16"
  }
 },
 "nbformat": 4,
 "nbformat_minor": 5
}
